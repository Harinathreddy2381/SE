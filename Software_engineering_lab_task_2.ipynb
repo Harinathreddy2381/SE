{
  "nbformat": 4,
  "nbformat_minor": 0,
  "metadata": {
    "colab": {
      "provenance": [],
      "authorship_tag": "ABX9TyPQGR67e1AeUolDiy065klC",
      "include_colab_link": true
    },
    "kernelspec": {
      "name": "python3",
      "display_name": "Python 3"
    },
    "language_info": {
      "name": "python"
    }
  },
  "cells": [
    {
      "cell_type": "markdown",
      "metadata": {
        "id": "view-in-github",
        "colab_type": "text"
      },
      "source": [
        "<a href=\"https://colab.research.google.com/github/Harinathreddy2381/SE/blob/main/Software_engineering_lab_task_2.ipynb\" target=\"_parent\"><img src=\"https://colab.research.google.com/assets/colab-badge.svg\" alt=\"Open In Colab\"/></a>"
      ]
    },
    {
      "cell_type": "code",
      "execution_count": 14,
      "metadata": {
        "id": "qlD_mwkIo8Aw"
      },
      "outputs": [],
      "source": [
        "def Temperature_modeling(a, b, c, time):\n",
        "    temperature = a * time**2 + b * time + c\n",
        "    return temperature"
      ]
    },
    {
      "cell_type": "code",
      "source": [
        "# Hardcoded variables\n",
        "a, b, c = 0.1, 2, 10\n",
        "time = 5"
      ],
      "metadata": {
        "id": "lvMqEPCdr_eA"
      },
      "execution_count": 15,
      "outputs": []
    },
    {
      "cell_type": "code",
      "source": [
        "# Display results\n",
        "print(\"Hard-coded variables for weather modeling\")\n",
        "print(\"Temperature for hardcoded coefficients at time\", time, \"hours:\", Temperature_modeling(a, b, c, time))"
      ],
      "metadata": {
        "colab": {
          "base_uri": "https://localhost:8080/"
        },
        "id": "16DlMKGBsNm7",
        "outputId": "30c15ef4-ff6c-4b45-beee-ceb47db4031b"
      },
      "execution_count": 16,
      "outputs": [
        {
          "output_type": "stream",
          "name": "stdout",
          "text": [
            "Hard-coded variables for weather modeling\n",
            "Temperature for hardcoded coefficients at time 5 hours: 22.5\n"
          ]
        }
      ]
    },
    {
      "cell_type": "code",
      "source": [
        "a=float(input(\"Enter the value of a: \"))\n",
        "b=float(input(\"Enter the value of b: \"))\n",
        "c=float(input(\"Enter the value of c: \"))\n"
      ],
      "metadata": {
        "colab": {
          "base_uri": "https://localhost:8080/"
        },
        "id": "2cSHmWjUsgwz",
        "outputId": "5703f249-1a43-4f1c-f4ab-9be0b7868361"
      },
      "execution_count": 17,
      "outputs": [
        {
          "name": "stdout",
          "output_type": "stream",
          "text": [
            "Enter the value of a: 0.1\n",
            "Enter the value of b: 3\n",
            "Enter the value of c: 10\n"
          ]
        }
      ]
    },
    {
      "cell_type": "code",
      "source": [
        "time = float(input(\"enter time\"))"
      ],
      "metadata": {
        "colab": {
          "base_uri": "https://localhost:8080/"
        },
        "id": "gCJXP92Lzycx",
        "outputId": "38ae0dfc-b51f-468f-b984-38a6c9903dc3"
      },
      "execution_count": 19,
      "outputs": [
        {
          "name": "stdout",
          "output_type": "stream",
          "text": [
            "enter time4\n"
          ]
        }
      ]
    },
    {
      "cell_type": "code",
      "source": [
        "# Display results\n",
        "print(\"Hard-coded variables for weather modeling\")\n",
        "print(\"Temperature for hardcoded coefficients at time\", time, \"hours:\", Temperature_modeling(a, b, c, time))"
      ],
      "metadata": {
        "colab": {
          "base_uri": "https://localhost:8080/"
        },
        "id": "kgAbYssm0BId",
        "outputId": "7a0dee4a-1687-4ca4-b203-ffdfd7337a16"
      },
      "execution_count": 20,
      "outputs": [
        {
          "output_type": "stream",
          "name": "stdout",
          "text": [
            "Hard-coded variables for weather modeling\n",
            "Temperature for hardcoded coefficients at time 4.0 hours: 23.6\n"
          ]
        }
      ]
    },
    {
      "cell_type": "code",
      "source": [
        "# Read coefficients from a file\n",
        "def read_from_file(filename):\n",
        "    with open(filename, 'r') as file:\n",
        "        lines = file.readlines()\n",
        "    coefficients = [tuple(map(float, line.strip().split(','))) for line in lines]\n",
        "    return coefficients"
      ],
      "metadata": {
        "id": "-574vb_90Tj3"
      },
      "execution_count": 21,
      "outputs": []
    },
    {
      "cell_type": "code",
      "source": [
        "# Example: Solve for a single set of inputs\n",
        "coefficients = read_from_file('/content/input.txt')\n",
        "a, b, c, time = coefficients[0]  # First set of coefficients\n",
        "temperature = Temperature_modeling(a, b, c, time)\n",
        "print(\"read from a file for weather modeling\")\n",
        "print(\"Temperature form keyboard coefficients at time\", time, \"hours:\", Temperature_modeling(a, b, c, time))\n"
      ],
      "metadata": {
        "colab": {
          "base_uri": "https://localhost:8080/"
        },
        "id": "MnSTSfjA0kLb",
        "outputId": "8449dddd-9b22-4cdc-b8cc-53715855cfa0"
      },
      "execution_count": 24,
      "outputs": [
        {
          "output_type": "stream",
          "name": "stdout",
          "text": [
            "read from a file for weather modeling\n",
            "Temperature form keyboard coefficients at time 2.0 hours: 4.0\n"
          ]
        }
      ]
    },
    {
      "cell_type": "code",
      "source": [
        "# solve for all sets in the file\n",
        "for idx,(a, b, c,time) in enumerate(coefficients):\n",
        "  temperature = Temperature_modeling(a, b, c,time)\n",
        "  print(\"Temperature from keyboard coefficients at time\",time,\"hours:\",Temperature_modeling(a,b,c,time))"
      ],
      "metadata": {
        "colab": {
          "base_uri": "https://localhost:8080/"
        },
        "id": "uz3UUBl-2NbK",
        "outputId": "9af8d222-4961-4d9f-e4a7-64c7edad81b1"
      },
      "execution_count": 25,
      "outputs": [
        {
          "output_type": "stream",
          "name": "stdout",
          "text": [
            "Temperature from keyboard coefficients at time 2.0 hours: 4.0\n",
            "Temperature from keyboard coefficients at time 1.0 hours: 5.0\n",
            "Temperature from keyboard coefficients at time 2.0 hours: 35.0\n"
          ]
        }
      ]
    }
  ]
}